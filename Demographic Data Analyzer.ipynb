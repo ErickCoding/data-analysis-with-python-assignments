import numpy as np
import pandas as pd
import matplotlib.pyplot as plt
import requests
from bokeh.plotting import figure,output_file, show
from bokeh.io import output_notebook
%matplotlib inline

conscensus=pd.read_csv(r"C:adult.data.csv")
total_pop=len(conscensus)
def turn_percent(x):
    print(str(round(100*x,2))+ "%")

def row_loc(x,y):
    conscensus.loc[(conscensus[x]==y)]

#How many people of each race are represented in this dataset? This should be a Pandas series with race names as the index labels. (race column)
conscensus[['race']].value_counts()


#What is the average age of men?
conscensus["age"].loc[conscensus["sex"]=="Male"].mean()

#What is the percentage of people who have a Bachelor's degree?
turn_percent(len(conscensus.loc[conscensus["education"]=="Bachelors"])/len(conscensus))

#What percentage of people with advanced education (Bachelors, Masters, or Doctorate) make more than 50K?
higher_edu=["Bachelors","Masters","Doctorate"]
turn_percent(len(conscensus.loc[conscensus["education"].isin(higher_edu)])/total_pop)

#What percentage of people without advanced education make more than 50K?
turn_percent(len(conscensus.loc[(conscensus["salary"]=='>50K') & (~conscensus["education"].isin(higher_edu))])/total_pop)

#What is the minimum number of hours a person works per week?
min_hours=conscensus["hours-per-week"].min()
print(min_hours)
turn_percent(len(conscensus.loc[(conscensus["salary"]=='>50K') & (conscensus["hours-per-week"]==min_hours)])/len(conscensus.loc[conscensus["hours-per-week"]==min_hours]))

#What country has the highest percentage of people that earn >50K and what is that percentage?
percent_country={}
for employee,country in zip(conscensus['native-country'].value_counts(),conscensus['native-country'].unique()):
    fifty_ratio=len(conscensus.loc[(conscensus["native-country"]==country) & (conscensus['salary']=='>50K')])/len(conscensus["native-country"]==country)
    percent_country[country]=fifty_ratio
print(max(percent_country.items(),key=lambda x:x[1]))

#Identify the most popular occupation for those who earn >50K in India.
india=conscensus['native-country'].isin(["India"])
fifty=conscensus['salary'].isin(['>50K'])
fifty_india=conscensus[fifty&india]
print(max(fifty_india['occupation'].value_counts().to_dict().items(),key=lambda x:x[1]))
