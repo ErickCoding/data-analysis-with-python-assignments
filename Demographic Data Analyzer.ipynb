import numpy as np
import pandas as pd
import matplotlib.pyplot as plt
import requests
from bokeh.plotting import figure,output_file, show
from bokeh.io import output_notebook
%matplotlib inline
conscensus=pd.read_csv(r"C:\Users\yeung\Downloads\adult.data.csv")
total_pop=len(conscensus)
def turn_percent(x):
    print(str(round(100*x,2))+ "%")


conscensus.head()
#How many people of each race are represented in this dataset? This should be a Pandas series with race names as the index labels. (race column)
conscensus[['race']].value_counts()


#What is the average age of men?
conscensus["age"].loc[conscensus["sex"]=="Male"].mean()

#What is the percentage of people who have a Bachelor's degree?
turn_percent(len(conscensus.loc[conscensus["education"]=="Bachelors"])/len(conscensus))

#What percentage of people with advanced education (Bachelors, Masters, or Doctorate) make more than 50K?
higher_edu=["Bachelors","Masters","Doctorate"]
quant_hi_ed=conscensus['education'].isin(higher_edu)
high_sal=conscensus['salary']=='>50K'
turn_percent(len((conscensus.loc[(high_sal) & (quant_hi_ed)]))/len(quant_hi_ed))

#What percentage of people without advanced education make more than 50K?
turn_percent(len(conscensus.loc[(high_sal) & (~quant_hi_ed)])/len(~quant_hi_ed))

#What is the minimum number of hours a person works per week?
min_hours=conscensus["hours-per-week"].min()
pop_with_min=conscensus["hours-per-week"]==min_hours
print(min_hours)

#What percentage of the people who work the minimum number of hours per week have a salary of more than 50K?
turn_percent(len(conscensus.loc[(high_sal) & (pop_with_min)])/len(conscensus.loc[pop_with_min]))
conscensus['salary_yn']=[1 if y == ">50K" else 0 for y in conscensus['salary']]
x=conscensus[['native-country','occupation',"salary",'salary_yn']].groupby(['native-country']).salary_yn.mean().to_frame().rename(columns={'salary_yn':'ratio_of_sal'})
z=conscensus[['native-country','occupation',"salary",'salary_yn']].set_index(['native-country']).join(x).reset_index()
z.groupby(['native-country','ratio_of_sal','occupation',"salary"]).count()

#What country has the highest percentage of people that earn >50K and what is that percentage?
conscensus['salary_yn']=[1 if y == ">50K" else 0 for y in conscensus['salary']]
df1=conscensus[['native-country','occupation',"salary",'salary_yn']].groupby(['native-country','occupation',"salary"]).count().join(x)
df1.loc[df1['ratio_of_sal']==df1['ratio_of_sal'].max()].index.get_level_values('native-country')[0]


#Identify the most popular occupation for those who earn >50K in India.
df2=conscensus[['native-country','occupation','salary_yn']].groupby(['native-country','occupation']).mean().rename(columns={'salary_yn':'job_sal_ratio'})
df2.loc['India'].idxmax()
